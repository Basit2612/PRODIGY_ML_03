{
  "cells": [
    {
      "cell_type": "markdown",
      "metadata": {
        "id": "view-in-github",
        "colab_type": "text"
      },
      "source": [
        "<a href=\"https://colab.research.google.com/github/Basit2612/PRODIGY_ML_03/blob/main/PRODIGY_ML_03.ipynb\" target=\"_parent\"><img src=\"https://colab.research.google.com/assets/colab-badge.svg\" alt=\"Open In Colab\"/></a>"
      ]
    },
    {
      "cell_type": "markdown",
      "source": [
        "# Statement"
      ],
      "metadata": {
        "id": "5dyRyyqdRtJk"
      },
      "id": "5dyRyyqdRtJk"
    },
    {
      "cell_type": "markdown",
      "id": "08c04664-a736-4f22-9d8f-df98512f2dbd",
      "metadata": {
        "id": "08c04664-a736-4f22-9d8f-df98512f2dbd"
      },
      "source": [
        "Implement a Support Vector Machine (SVM) to classify images of cats and dogs from kaggle datasets\n",
        "\n",
        "Dataset:https://www.kaggle.com/c/dogs-vs-cats/data"
      ]
    },
    {
      "cell_type": "markdown",
      "id": "da712dae-bccc-4422-b0e6-2e4223343484",
      "metadata": {
        "id": "da712dae-bccc-4422-b0e6-2e4223343484"
      },
      "source": [
        "# Importing Datasets"
      ]
    },
    {
      "cell_type": "code",
      "execution_count": null,
      "id": "eb4774dc-298c-4c18-ac2e-9376ec36f709",
      "metadata": {
        "id": "eb4774dc-298c-4c18-ac2e-9376ec36f709"
      },
      "outputs": [],
      "source": [
        "import os\n",
        "import shutil\n",
        "import csv\n",
        "import cv2\n",
        "import pandas as pd\n",
        "import numpy as np\n",
        "import seaborn as sns\n",
        "import matplotlib.pyplot as plt"
      ]
    },
    {
      "cell_type": "markdown",
      "id": "446a86df-f891-46e9-97c2-6fcc5620595a",
      "metadata": {
        "id": "446a86df-f891-46e9-97c2-6fcc5620595a"
      },
      "source": [
        "# Separating Cats & Dogs Images"
      ]
    },
    {
      "cell_type": "code",
      "execution_count": null,
      "id": "c20b1d9b-8930-464b-9b64-3de00dfe00dd",
      "metadata": {
        "id": "c20b1d9b-8930-464b-9b64-3de00dfe00dd"
      },
      "outputs": [],
      "source": [
        "source_file = \"dogs-vs-cats/train\"\n",
        "destination_cats = \"dogs-vs-cats/train/cats\"\n",
        "destination_dogs = \"dogs-vs-cats/train/dogs\"\n",
        "\n",
        "if not os.path.exists(destination_cats):\n",
        "    os.makedirs(destination_cats)\n",
        "if not os.path.exists(destination_dogs):\n",
        "    os.makedirs(destination_dogs)\n",
        "\n",
        "for filename in os.listdir(source_file):\n",
        "    if \"cat\" in filename.lower():\n",
        "        source_file_path = os.path.join(source_file, filename)\n",
        "        destination_file_path = os.path.join(destination_cats, filename)\n",
        "        shutil.move(source_file_path, destination_file_path)\n",
        "    if \"dog\" in filename.lower():\n",
        "        source = os.path.join(source_file, filename)\n",
        "        destination = os.path.join(destination_dogs, filename)\n",
        "        shutil.move(source, destination)"
      ]
    },
    {
      "cell_type": "markdown",
      "id": "63e4c5ab-864d-442d-b84d-04c8f048d81e",
      "metadata": {
        "id": "63e4c5ab-864d-442d-b84d-04c8f048d81e"
      },
      "source": [
        "# Reading Image Files"
      ]
    },
    {
      "cell_type": "code",
      "execution_count": null,
      "id": "d77c3727-a07b-4f25-b8e5-0999082b3201",
      "metadata": {
        "id": "d77c3727-a07b-4f25-b8e5-0999082b3201"
      },
      "outputs": [],
      "source": [
        "cats_dir = \"dogs-vs-cats/train/cats\"\n",
        "dogs_dir = \"dogs-vs-cats/train/dogs\"\n",
        "\n",
        "def extract_images(image_path):\n",
        "    image = cv2.imread(image_path)\n",
        "    image = cv2.resize(image, (64,64))\n",
        "    flattened_image = image.flatten()\n",
        "    return flattened_image"
      ]
    },
    {
      "cell_type": "code",
      "execution_count": null,
      "id": "4c84afd2-9b5d-4a10-bf6e-7ac64f94f354",
      "metadata": {
        "id": "4c84afd2-9b5d-4a10-bf6e-7ac64f94f354"
      },
      "outputs": [],
      "source": [
        "X = []\n",
        "Y = []\n",
        "\n",
        "for filename in os.listdir(cats_dir):\n",
        "    if filename.endswith('.jpg') or filename.endswith('.png'):\n",
        "        image_path = os.path.join(cats_dir, filename)\n",
        "        features = extract_images(image_path)\n",
        "        X.append(features)\n",
        "        Y.append(0)\n",
        "\n",
        "for filename in os.listdir(dogs_dir):\n",
        "    if filename.endswith(\".jpg\") or filename.enswith(\".png\"):\n",
        "        image = os.path.join(dogs_dir, filename)\n",
        "        feature = extract_images(image)\n",
        "        X.append(feature)\n",
        "        Y.append(1)"
      ]
    },
    {
      "cell_type": "markdown",
      "id": "fd518ef3-33f8-4b9b-b1a0-13c3b544d172",
      "metadata": {
        "id": "fd518ef3-33f8-4b9b-b1a0-13c3b544d172"
      },
      "source": [
        "# Creating DataFrame"
      ]
    },
    {
      "cell_type": "code",
      "execution_count": null,
      "id": "8a677a28-e414-47e4-b97b-4bfcfbf01f09",
      "metadata": {
        "id": "8a677a28-e414-47e4-b97b-4bfcfbf01f09"
      },
      "outputs": [],
      "source": [
        "Dogs_Cats = ({\"ImageNo.\": X, \"Category\" : Y})\n",
        "Dogs_Cats = pd.DataFrame(Dogs_Cats)\n",
        "Dogs_Cats"
      ]
    },
    {
      "cell_type": "code",
      "execution_count": null,
      "id": "44febcc3-d262-4b9d-8277-e9ac73e94dbe",
      "metadata": {
        "id": "44febcc3-d262-4b9d-8277-e9ac73e94dbe"
      },
      "outputs": [],
      "source": [
        "Dogs_Cats.head()"
      ]
    },
    {
      "cell_type": "code",
      "execution_count": null,
      "id": "7cb438f8-9162-481f-8b76-fc925fede429",
      "metadata": {
        "id": "7cb438f8-9162-481f-8b76-fc925fede429"
      },
      "outputs": [],
      "source": [
        "Dogs_Cats.tail()"
      ]
    },
    {
      "cell_type": "code",
      "execution_count": null,
      "id": "76035021-ad67-4355-b635-f2709f9753d6",
      "metadata": {
        "id": "76035021-ad67-4355-b635-f2709f9753d6"
      },
      "outputs": [],
      "source": [
        "Dogs_Cats.info()"
      ]
    },
    {
      "cell_type": "code",
      "execution_count": null,
      "id": "47089f80-ce3e-485a-9d1c-8df63d33b095",
      "metadata": {
        "id": "47089f80-ce3e-485a-9d1c-8df63d33b095"
      },
      "outputs": [],
      "source": [
        "X = np.array(X)\n",
        "Y = np.array(Y)\n",
        "X, Y"
      ]
    },
    {
      "cell_type": "markdown",
      "id": "a7fbe89c-cb7a-41d9-8408-3d84cd81555d",
      "metadata": {
        "id": "a7fbe89c-cb7a-41d9-8408-3d84cd81555d"
      },
      "source": [
        "# Importing **Support Vector Machine(SVM)**"
      ]
    },
    {
      "cell_type": "code",
      "execution_count": null,
      "id": "678287f9-edbb-4f5e-b9eb-d9d40eef5855",
      "metadata": {
        "id": "678287f9-edbb-4f5e-b9eb-d9d40eef5855"
      },
      "outputs": [],
      "source": [
        "from sklearn.svm import SVC\n",
        "SVM = SVC(kernel=\"sigmoid\").fit(X,Y)"
      ]
    },
    {
      "cell_type": "markdown",
      "id": "2b94587f-ae29-4456-abb1-112b6b802db7",
      "metadata": {
        "id": "2b94587f-ae29-4456-abb1-112b6b802db7"
      },
      "source": [
        "# Implementing Model on test set"
      ]
    },
    {
      "cell_type": "code",
      "execution_count": null,
      "id": "916e782d-b2d4-4740-8e8f-45243b40a43d",
      "metadata": {
        "id": "916e782d-b2d4-4740-8e8f-45243b40a43d"
      },
      "outputs": [],
      "source": [
        "test = []\n",
        "test_directory = 'dogs-vs-cats/test1'\n",
        "\n",
        "for filename in os.listdir(test_directory):\n",
        "    if filename.endswith('.jpg') or filename.endswith('.png'):\n",
        "        test_path = os.path.join(test_directory, filename)\n",
        "        directory = extract_images(test_path)\n",
        "        test.append(directory)\n",
        "        return test\n",
        "y_pred = SVM.predict(test)"
      ]
    }
  ],
  "metadata": {
    "kernelspec": {
      "display_name": "Python 3 (ipykernel)",
      "language": "python",
      "name": "python3"
    },
    "language_info": {
      "codemirror_mode": {
        "name": "ipython",
        "version": 3
      },
      "file_extension": ".py",
      "mimetype": "text/x-python",
      "name": "python",
      "nbconvert_exporter": "python",
      "pygments_lexer": "ipython3",
      "version": "3.12.0"
    },
    "colab": {
      "provenance": [],
      "include_colab_link": true
    }
  },
  "nbformat": 4,
  "nbformat_minor": 5
}